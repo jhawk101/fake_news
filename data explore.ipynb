{
 "cells": [
  {
   "cell_type": "markdown",
   "metadata": {},
   "source": [
    "# Fake news exploration\n",
    "\n",
    "Data downloaded from https://www.kaggle.com/c/fake-news/data.\n",
    "\n",
    "Proposed process:\n",
    "\n",
    "* Use pre-trained word embeddings\n",
    "    * [SpaCy](https://www.shanelynn.ie/word-embeddings-in-python-with-spacy-and-gensim/) - spacy has models included, so will start here. File is only 50MB which is much smaller than other options. spacy likely easier to load straight from python\n",
    "    * [Stanford GlOve](https://nlp.stanford.edu/projects/glove/) - 882MB file, \n",
    "    * [Google news embeddings](https://code.google.com/archive/p/word2vec/) - suspect this might be best but is a 1.3GB file\n",
    "* Train model on the embeddings\n",
    "    * [keras](https://keras.io/examples/nlp/pretrained_word_embeddings/)\n",
    "    * [xgboost](https://github.com/shangjingbo1226/fnc-1/blob/master/src/main.py)"
   ]
  },
  {
   "cell_type": "code",
   "execution_count": 23,
   "metadata": {},
   "outputs": [],
   "source": [
    "import pandas as pd\n",
    "import spacy\n",
    "import numpy as np\n",
    "from tensorflow import keras\n",
    "import tensorflow as tf\n",
    "import xgboost as xgb\n",
    "import matplotlib.pyplot as plt\n",
    "from sklearn.metrics import confusion_matrix, average_precision_score, plot_precision_recall_curve"
   ]
  },
  {
   "cell_type": "code",
   "execution_count": 2,
   "metadata": {},
   "outputs": [],
   "source": [
    "nlp = spacy.load(\"en_core_web_md\")"
   ]
  },
  {
   "cell_type": "code",
   "execution_count": 3,
   "metadata": {},
   "outputs": [],
   "source": [
    "df = pd.read_csv(\"fake_news/data/train.csv\")"
   ]
  },
  {
   "cell_type": "code",
   "execution_count": 42,
   "metadata": {},
   "outputs": [],
   "source": [
    "df[\"all_text\"] = (df.title + \" \" + df.text).values"
   ]
  },
  {
   "cell_type": "code",
   "execution_count": 43,
   "metadata": {},
   "outputs": [],
   "source": [
    "df = df[pd.notnull(df.all_text)]"
   ]
  },
  {
   "cell_type": "code",
   "execution_count": 34,
   "metadata": {},
   "outputs": [
    {
     "name": "stdout",
     "output_type": "stream",
     "text": [
      "1    10413\n",
      "0    10387\n",
      "Name: label, dtype: int64\n",
      "(20800, 5)\n"
     ]
    }
   ],
   "source": [
    "print(df.label.value_counts())\n",
    "print(df.shape)"
   ]
  },
  {
   "cell_type": "code",
   "execution_count": 18,
   "metadata": {},
   "outputs": [
    {
     "name": "stdout",
     "output_type": "stream",
     "text": [
      "[ 6.0216e-02  2.1799e-01 -4.2490e-02 -3.8618e-01 -1.5388e-01  3.4635e-02\n",
      "  2.2243e-01  2.1718e-01  6.8483e-03  2.4375e+00 -2.7418e-01  1.3572e-01\n",
      "  3.1086e-01 -6.3206e-02  3.8225e-04 -1.8597e-01 -1.9333e-01  1.4447e+00\n",
      " -3.8541e-01 -2.8549e-01  7.5627e-02 -3.6799e-02 -4.6068e-01 -1.6835e-02\n",
      "  1.9821e-01 -9.2746e-02  1.8954e-01 -3.2648e-04 -1.7081e-01  5.0359e-01\n",
      "  4.6256e-01  2.6901e-01 -1.2256e-01  2.4713e-01  6.9305e-02 -2.0777e-01\n",
      " -4.4560e-01  3.0223e-01 -9.8344e-03  3.2772e-01  1.1038e-01  4.1271e-01\n",
      " -1.5854e-01 -5.6983e-02  3.8918e-01 -2.1158e-01 -1.3307e-01  4.0406e-01\n",
      "  1.7490e-01  5.3949e-02  1.0984e-01 -1.8476e-01 -5.4014e-02  4.0112e-02\n",
      " -1.0175e-01  1.2662e-01  6.9709e-02 -2.4071e-01 -2.0995e-01 -5.1381e-02\n",
      "  2.8219e-01  1.8598e-01 -5.0180e-01  2.7572e-01 -1.8497e-01 -1.8399e-01\n",
      "  1.5696e-01 -3.8444e-02 -5.2238e-01  2.2753e-01  4.8672e-02 -7.8837e-02\n",
      "  6.5448e-02  1.8399e-01  4.0211e-01 -1.2745e-01 -1.2302e-01  3.1072e-01\n",
      "  9.9588e-02  3.6047e-02 -2.5946e-01  3.6128e-01  1.2748e-01 -1.8667e-01\n",
      "  1.6502e-01 -3.9120e-01 -6.7549e-01  1.1291e-01  4.0743e-02  3.4973e-02\n",
      " -4.0910e-02 -3.9791e-02 -4.0544e-01 -1.5867e-02  1.0239e-01  4.6868e-02\n",
      " -8.2776e-02  1.5132e-02 -1.4899e-01 -2.5125e-01  2.5244e-01 -1.1851e-01\n",
      " -3.4127e-01  1.6516e-02  3.0405e-01 -5.4100e-01  3.0500e-01  3.9065e-01\n",
      "  4.2362e-01 -4.1721e-01 -5.4247e-02 -2.6014e-01 -1.4048e-01 -1.4166e-01\n",
      " -2.1050e-02  5.0822e-02 -7.8053e-02  4.5922e-01  1.7598e-01 -1.5700e-02\n",
      "  9.1180e-02  3.4263e-02 -4.9995e-01  2.8574e-02  1.2068e-01  1.9781e-01\n",
      " -1.3025e-02 -2.2418e-01  1.2503e-01  1.4653e-01 -2.3085e-01  2.1987e-01\n",
      " -5.9321e-02 -8.8169e-02 -1.2520e-01  7.5112e-03 -2.2421e-01  6.2140e-01\n",
      "  2.0090e-01 -2.8990e-02 -6.5073e-01  5.3506e-03 -1.2073e-01  2.0988e-01\n",
      " -1.6840e-01  4.1826e-02  5.4582e-02  3.5247e-01  2.0060e-01  3.1903e-02\n",
      " -5.3307e-02 -4.4009e-01  2.2495e-01 -3.0616e-01 -3.2855e-01 -1.5779e-02\n",
      " -1.3913e-01  3.4309e-01 -1.3569e-01 -2.2276e-01  1.4295e-01  5.5010e-02\n",
      " -1.0616e-01  2.3597e-01 -2.0701e-01 -3.0963e-01  1.3528e-01 -1.6144e-01\n",
      "  2.9108e-01  1.2301e-01  2.3650e-01 -2.6153e-01  3.1022e-01  2.0612e-01\n",
      " -1.9885e-01  1.0971e-01 -1.8054e-03  1.4621e-01  1.5177e-01 -4.4680e-01\n",
      "  6.7433e-03 -2.8784e-02  1.3821e-01 -1.6566e-01 -4.5517e-01  1.6623e-02\n",
      "  1.0703e-01 -4.8399e-01  4.0033e-02  4.9625e-02 -2.6454e-01 -1.4680e-01\n",
      "  1.3651e-01  1.5261e-01  6.7522e-02  5.0405e-01 -1.8848e-01  1.5256e-01\n",
      " -2.6997e-01  5.5578e-02  4.7077e-02 -1.7848e-01 -3.3567e-01 -3.1480e-02\n",
      "  1.9107e-01  1.8818e-01  1.8778e-01  1.8313e-01 -3.6400e-01 -5.4127e-03\n",
      " -1.5763e-01  1.6386e-01 -8.4828e-02 -1.9838e-01 -4.0454e-01  4.1031e-01\n",
      " -4.1393e-01  2.9771e-02  1.0544e-01 -1.1295e-01 -6.8076e-02 -2.2372e-01\n",
      " -1.9084e-01 -8.0269e-02 -3.8345e-01  6.4712e-02  2.3111e-01  2.1408e-01\n",
      "  2.8038e-01  1.4221e-01 -2.0696e-01  1.5874e-02 -1.4112e-01  8.9859e-02\n",
      " -2.1533e-01 -2.0105e-02  2.2703e-01  8.3425e-02 -2.9580e-01  1.8036e-02\n",
      "  1.9885e-01  1.7794e-01  1.3688e-01 -1.0302e-01  2.9651e-02  5.1271e-02\n",
      " -1.4787e-01 -4.1824e-01  1.9828e-02 -2.6385e-01 -7.4654e-02 -1.5718e-02\n",
      "  4.8094e-01  1.2492e-01 -1.1409e-01  5.8127e-01  9.5836e-02 -9.5912e-02\n",
      " -5.7435e-02  1.3883e-01  1.0307e-01  8.1362e-02 -4.6690e-01  5.0705e-01\n",
      "  2.1685e-02 -7.1623e-02 -6.3827e-02 -1.1154e-01  6.1792e-01 -5.6329e-01\n",
      "  2.3565e-02  1.8041e-01 -2.5780e-01 -5.0956e-01  1.4737e-01 -3.3317e-02\n",
      " -3.7053e-02  2.4062e-01  1.2641e-01 -2.7091e-02  4.0390e-01 -2.8360e-02\n",
      " -2.2235e-02 -1.1493e-01 -2.2850e-01 -5.7460e-02  2.9520e-01 -2.1914e-01\n",
      " -1.3307e-01 -2.3647e-01 -4.2484e-01  1.1606e-01  4.8131e-03 -3.9629e-01\n",
      " -2.6823e-01  3.2920e-01 -1.7597e-01  1.1709e-01 -1.6692e-01 -9.4085e-02]\n",
      "[-1.93935558e-02  8.36914480e-02 -1.70900002e-02 -3.16108912e-02\n",
      "  9.93255526e-02  1.08278245e-01 -3.37709971e-02 -2.94245556e-02\n",
      "  1.04792556e-02  1.38383663e+00 -8.83352235e-02  6.30267709e-02\n",
      "  2.10221112e-01 -2.72312239e-02 -5.18854186e-02 -4.14694473e-02\n",
      "  5.55471107e-02  1.35904455e+00 -2.34057695e-01 -1.52711332e-01\n",
      "  5.09599894e-02  3.75802182e-02 -1.73136890e-01  3.08652185e-02\n",
      "  3.76054980e-02 -2.66514439e-02  1.07562989e-01  3.59687209e-02\n",
      "  1.27400994e-01 -7.90365562e-02  5.90430424e-02  7.49662220e-02\n",
      "  1.77245095e-01 -7.79372230e-02  6.19177818e-02 -4.52341288e-02\n",
      " -2.00036556e-01  7.06741512e-02 -5.55058802e-03 -6.45325752e-03\n",
      "  2.37217456e-01 -9.23955590e-02 -3.79243009e-02 -7.28712156e-02\n",
      " -5.05502187e-02  7.87471235e-02  4.44704443e-02  1.11828551e-01\n",
      " -2.05508880e-02  6.09962605e-02 -4.32480052e-02 -3.74700017e-02\n",
      "  1.92633597e-03 -1.05310814e-03 -1.20749235e-01 -7.31611252e-03\n",
      "  6.70544133e-02 -2.30077747e-02 -2.31603533e-02 -1.36341333e-01\n",
      " -2.84957886e-02  6.42785504e-02 -1.39279664e-01  2.27562398e-01\n",
      "  7.80274346e-02  6.10982254e-02  8.79118219e-02  1.83081791e-01\n",
      " -5.69035597e-02  2.46936664e-01  5.83786704e-02  3.22744437e-02\n",
      "  2.13491663e-01  1.80591177e-02  6.95268288e-02 -9.88113359e-02\n",
      "  6.57828897e-02 -1.95829943e-02 -1.17570773e-01  7.79847801e-02\n",
      "  1.47749230e-01  8.16589966e-02  3.23233008e-03 -5.75178415e-02\n",
      "  5.44093288e-02 -1.84366673e-01 -2.26351559e-01  3.33547853e-02\n",
      "  9.84666720e-02  3.77230011e-02 -1.66461095e-01 -5.85511280e-03\n",
      " -8.17404222e-03  2.93992236e-02  1.18597336e-01 -2.65905466e-02\n",
      "  8.52090120e-02  8.43460038e-02 -2.24797726e-02 -1.64538883e-02\n",
      "  8.19505602e-02 -8.28688815e-02 -3.83384414e-02 -4.38369997e-02\n",
      "  2.12024674e-01 -9.71868813e-01  2.17549771e-01  1.70301780e-01\n",
      "  1.96714550e-01 -1.33252442e-01 -1.06221661e-01 -1.62464231e-01\n",
      " -5.21772206e-02 -7.68086687e-02 -5.62149957e-02  9.45322216e-02\n",
      " -2.98072957e-02  3.13021123e-01  7.22966250e-03  1.93665549e-02\n",
      "  2.45108865e-02 -4.57122214e-02 -1.30978897e-01  1.18347898e-01\n",
      "  6.48496673e-02  7.98199996e-02  1.33086676e-02 -2.75646616e-02\n",
      "  1.47262253e-02  2.98044574e-03 -3.18823270e-02  1.96212269e-02\n",
      " -1.79116786e-01  3.66236679e-02  9.00824443e-02 -8.91130790e-03\n",
      "  1.47809088e-01  2.10007355e-01  9.60572213e-02 -1.14559121e-01\n",
      " -8.23484421e-01 -4.41785976e-02 -8.66622105e-03 -1.18445784e-01\n",
      "  8.44849497e-02 -1.14051446e-01  9.97466873e-03  1.09487791e-02\n",
      "  1.09256335e-01 -7.97935650e-02  1.08822121e-03 -1.00718781e-01\n",
      "  2.17421129e-02  3.49709988e-02 -4.71705608e-02 -1.12689994e-02\n",
      " -1.25388443e-01  2.34608054e-02  6.84522167e-02 -5.67606688e-02\n",
      " -7.39373267e-02  3.39745544e-02  3.90433054e-03 -6.66532218e-02\n",
      " -2.41481125e-01 -1.99585021e-01 -3.25555541e-02 -5.89122176e-02\n",
      "  1.11255459e-01 -1.85358860e-02  2.00471673e-02 -1.58967823e-02\n",
      " -2.58872248e-02 -3.62672284e-02 -2.92853341e-02  3.01656649e-02\n",
      " -1.93609893e-02 -8.51107687e-02  8.18316638e-02  4.29120986e-03\n",
      "  3.69508117e-02 -1.52598217e-01  3.68316695e-02 -3.67640220e-02\n",
      "  4.04499918e-02  8.66444595e-03 -6.82602227e-02 -4.67648916e-02\n",
      " -1.12739429e-01 -2.13457838e-01  4.68433350e-02 -3.45243327e-02\n",
      " -8.98862183e-02  6.27554432e-02 -3.69342160e-03  3.88863325e-01\n",
      " -1.42813101e-01 -5.28933331e-02 -9.40498859e-02 -2.48197746e-02\n",
      " -8.71255547e-02 -1.17020994e-01 -3.81072201e-02 -7.26455078e-02\n",
      "  1.82086557e-01  5.17299585e-03  3.98215540e-02  1.01885334e-01\n",
      " -1.04398996e-01  9.92511362e-02 -9.83167887e-02  2.20105574e-02\n",
      "  1.31776556e-02 -2.74478883e-01 -2.69684911e-01  9.99082103e-02\n",
      " -4.57125604e-02  8.40396658e-02 -9.82790142e-02  1.78618371e-01\n",
      "  6.06448837e-02  2.09073648e-02 -4.37833294e-02  8.73619989e-02\n",
      " -9.03748795e-02  1.74644545e-01  3.24601121e-02 -1.17519991e-02\n",
      "  2.27619648e-01  4.04802300e-02 -5.66846728e-02 -5.82822179e-03\n",
      " -6.72266707e-02  1.27368778e-01 -1.03700444e-01  2.11478546e-02\n",
      " -5.54507338e-02  1.45858347e-01  3.65434438e-02 -1.99783240e-02\n",
      "  1.53024003e-01  6.00397736e-02 -2.17599515e-03 -9.84299835e-03\n",
      "  1.06998883e-01 -7.27675781e-02 -2.60313321e-02 -2.93287665e-01\n",
      "  2.07377807e-03 -1.69266000e-01 -1.33935595e-02 -3.70162241e-02\n",
      "  6.95466995e-03  2.07799971e-02  1.96568549e-01  2.41662234e-01\n",
      "  2.31929980e-02 -2.53368877e-02  3.41374911e-02  4.88824435e-02\n",
      "  5.79125471e-02  1.12824768e-01 -1.00021757e-01  1.60700027e-02\n",
      "  1.80992763e-02 -5.86461164e-02  2.74310745e-02  3.74202281e-02\n",
      "  7.69779921e-01 -1.95301116e-01  7.12879077e-02 -8.96743238e-02\n",
      " -6.12689136e-03 -2.74263889e-01  3.99880223e-02 -2.80368924e-02\n",
      " -3.21313329e-02  1.61231697e-01  1.07768193e-01  4.54381108e-02\n",
      "  2.33576670e-01  9.90288798e-03  1.48006573e-01 -1.59721896e-01\n",
      " -5.43493666e-02 -5.71104474e-02  6.89657107e-02 -4.91002239e-02\n",
      "  1.52482223e-02 -2.56679088e-01 -2.97585547e-01  8.81868228e-03\n",
      "  5.41238971e-02  9.56655387e-03 -6.73126653e-02 -2.85341106e-02\n",
      " -1.42987734e-02  4.04433347e-02 -1.32696792e-01  1.26412675e-01]\n"
     ]
    }
   ],
   "source": [
    "doc = nlp(\"Test the processing of some text with spacy crev\")\n",
    "\n",
    "print(doc[3].vector)\n",
    "\n",
    "print(doc.vector)"
   ]
  },
  {
   "cell_type": "code",
   "execution_count": 4,
   "metadata": {},
   "outputs": [
    {
     "ename": "TypeError",
     "evalue": "object of type 'float' has no len()",
     "output_type": "error",
     "traceback": [
      "\u001b[0;31m---------------------------------------------------------------------------\u001b[0m",
      "\u001b[0;31mTypeError\u001b[0m                                 Traceback (most recent call last)",
      "\u001b[0;32m<ipython-input-4-1990e106661c>\u001b[0m in \u001b[0;36m<module>\u001b[0;34m\u001b[0m\n\u001b[1;32m      2\u001b[0m \u001b[0;34m\u001b[0m\u001b[0m\n\u001b[1;32m      3\u001b[0m \u001b[0;32mfor\u001b[0m \u001b[0mindex\u001b[0m\u001b[0;34m,\u001b[0m \u001b[0msentence\u001b[0m \u001b[0;32min\u001b[0m \u001b[0menumerate\u001b[0m\u001b[0;34m(\u001b[0m\u001b[0mdf\u001b[0m\u001b[0;34m.\u001b[0m\u001b[0mtext\u001b[0m\u001b[0;34m.\u001b[0m\u001b[0mvalues\u001b[0m\u001b[0;34m)\u001b[0m\u001b[0;34m:\u001b[0m\u001b[0;34m\u001b[0m\u001b[0;34m\u001b[0m\u001b[0m\n\u001b[0;32m----> 4\u001b[0;31m     \u001b[0mdoc\u001b[0m \u001b[0;34m=\u001b[0m \u001b[0mnlp\u001b[0m\u001b[0;34m(\u001b[0m\u001b[0msentence\u001b[0m\u001b[0;34m)\u001b[0m\u001b[0;34m\u001b[0m\u001b[0;34m\u001b[0m\u001b[0m\n\u001b[0m\u001b[1;32m      5\u001b[0m     \u001b[0mX_train\u001b[0m\u001b[0;34m[\u001b[0m\u001b[0mindex\u001b[0m\u001b[0;34m,\u001b[0m \u001b[0;34m:\u001b[0m\u001b[0;34m]\u001b[0m \u001b[0;34m=\u001b[0m \u001b[0mdoc\u001b[0m\u001b[0;34m.\u001b[0m\u001b[0mvector\u001b[0m\u001b[0;34m\u001b[0m\u001b[0;34m\u001b[0m\u001b[0m\n",
      "\u001b[0;32m~/.cache/pypoetry/virtualenvs/fake-news-6kyEDC7s-py3.6/lib/python3.6/site-packages/spacy/language.py\u001b[0m in \u001b[0;36m__call__\u001b[0;34m(self, text, disable, component_cfg)\u001b[0m\n\u001b[1;32m    435\u001b[0m         \u001b[0mDOCS\u001b[0m\u001b[0;34m:\u001b[0m \u001b[0mhttps\u001b[0m\u001b[0;34m:\u001b[0m\u001b[0;34m//\u001b[0m\u001b[0mspacy\u001b[0m\u001b[0;34m.\u001b[0m\u001b[0mio\u001b[0m\u001b[0;34m/\u001b[0m\u001b[0mapi\u001b[0m\u001b[0;34m/\u001b[0m\u001b[0mlanguage\u001b[0m\u001b[0;31m#call\u001b[0m\u001b[0;34m\u001b[0m\u001b[0;34m\u001b[0m\u001b[0m\n\u001b[1;32m    436\u001b[0m         \"\"\"\n\u001b[0;32m--> 437\u001b[0;31m         \u001b[0;32mif\u001b[0m \u001b[0mlen\u001b[0m\u001b[0;34m(\u001b[0m\u001b[0mtext\u001b[0m\u001b[0;34m)\u001b[0m \u001b[0;34m>\u001b[0m \u001b[0mself\u001b[0m\u001b[0;34m.\u001b[0m\u001b[0mmax_length\u001b[0m\u001b[0;34m:\u001b[0m\u001b[0;34m\u001b[0m\u001b[0;34m\u001b[0m\u001b[0m\n\u001b[0m\u001b[1;32m    438\u001b[0m             raise ValueError(\n\u001b[1;32m    439\u001b[0m                 \u001b[0mErrors\u001b[0m\u001b[0;34m.\u001b[0m\u001b[0mE088\u001b[0m\u001b[0;34m.\u001b[0m\u001b[0mformat\u001b[0m\u001b[0;34m(\u001b[0m\u001b[0mlength\u001b[0m\u001b[0;34m=\u001b[0m\u001b[0mlen\u001b[0m\u001b[0;34m(\u001b[0m\u001b[0mtext\u001b[0m\u001b[0;34m)\u001b[0m\u001b[0;34m,\u001b[0m \u001b[0mmax_length\u001b[0m\u001b[0;34m=\u001b[0m\u001b[0mself\u001b[0m\u001b[0;34m.\u001b[0m\u001b[0mmax_length\u001b[0m\u001b[0;34m)\u001b[0m\u001b[0;34m\u001b[0m\u001b[0;34m\u001b[0m\u001b[0m\n",
      "\u001b[0;31mTypeError\u001b[0m: object of type 'float' has no len()"
     ]
    }
   ],
   "source": [
    "X_train = np.zeros((len(df), 300))\n",
    "\n",
    "for index, sentence in enumerate(df.text.values):\n",
    "    doc = nlp(sentence)\n",
    "    X_train[index, :] = doc.vector"
   ]
  },
  {
   "cell_type": "code",
   "execution_count": 5,
   "metadata": {},
   "outputs": [],
   "source": [
    "y_train = df.label"
   ]
  },
  {
   "cell_type": "code",
   "execution_count": 19,
   "metadata": {},
   "outputs": [
    {
     "data": {
      "text/plain": [
       "array([[5197, 5190],\n",
       "       [5142, 5271]])"
      ]
     },
     "execution_count": 19,
     "metadata": {},
     "output_type": "execute_result"
    }
   ],
   "source": [
    "rand_preds = np.random.randint(2, size=y_train.shape[0])\n",
    "\n",
    "confusion_matrix(y_train, rand_preds)"
   ]
  },
  {
   "cell_type": "code",
   "execution_count": 22,
   "metadata": {},
   "outputs": [
    {
     "data": {
      "text/plain": [
       "0.5022683709472158"
      ]
     },
     "execution_count": 22,
     "metadata": {},
     "output_type": "execute_result"
    }
   ],
   "source": [
    "average_precision_score(y_train, rand_preds)"
   ]
  },
  {
   "cell_type": "code",
   "execution_count": 27,
   "metadata": {},
   "outputs": [
    {
     "data": {
      "image/png": "[encoded data removed]",
      "text/plain": [
       "<Figure size 432x288 with 1 Axes>"
      ]
     },
     "metadata": {
      "needs_background": "light"
     },
     "output_type": "display_data"
    }
   ],
   "source": [
    "precision, recall, thresholds = precision_recall_curve(y_train, rand_preds)\n",
    "\n",
    "plt.plot(precision, recall)\n",
    "plt.show()"
   ]
  },
  {
   "cell_type": "markdown",
   "metadata": {},
   "source": [
    "## Xgboost"
   ]
  },
  {
   "cell_type": "code",
   "execution_count": 7,
   "metadata": {},
   "outputs": [],
   "source": [
    "dtrain = xgb.DMatrix(X_train, y_train)"
   ]
  },
  {
   "cell_type": "code",
   "execution_count": 10,
   "metadata": {},
   "outputs": [],
   "source": [
    "param = {\"max_depth\":10, \"eta\":1, \"objective\":\"binary:logistic\"}\n",
    "num_round = 10"
   ]
  },
  {
   "cell_type": "code",
   "execution_count": 11,
   "metadata": {},
   "outputs": [
    {
     "data": {
      "text/html": [
       "<div>\n",
       "<style scoped>\n",
       "    .dataframe tbody tr th:only-of-type {\n",
       "        vertical-align: middle;\n",
       "    }\n",
       "\n",
       "    .dataframe tbody tr th {\n",
       "        vertical-align: top;\n",
       "    }\n",
       "\n",
       "    .dataframe thead th {\n",
       "        text-align: right;\n",
       "    }\n",
       "</style>\n",
       "<table border=\"1\" class=\"dataframe\">\n",
       "  <thead>\n",
       "    <tr style=\"text-align: right;\">\n",
       "      <th></th>\n",
       "      <th>train-error-mean</th>\n",
       "      <th>train-error-std</th>\n",
       "      <th>test-error-mean</th>\n",
       "      <th>test-error-std</th>\n",
       "    </tr>\n",
       "  </thead>\n",
       "  <tbody>\n",
       "    <tr>\n",
       "      <th>0</th>\n",
       "      <td>0.495601</td>\n",
       "      <td>0.001070</td>\n",
       "      <td>0.501923</td>\n",
       "      <td>0.005668</td>\n",
       "    </tr>\n",
       "    <tr>\n",
       "      <th>1</th>\n",
       "      <td>0.495276</td>\n",
       "      <td>0.001123</td>\n",
       "      <td>0.501731</td>\n",
       "      <td>0.005788</td>\n",
       "    </tr>\n",
       "    <tr>\n",
       "      <th>2</th>\n",
       "      <td>0.495204</td>\n",
       "      <td>0.001115</td>\n",
       "      <td>0.501538</td>\n",
       "      <td>0.005960</td>\n",
       "    </tr>\n",
       "    <tr>\n",
       "      <th>3</th>\n",
       "      <td>0.495204</td>\n",
       "      <td>0.001115</td>\n",
       "      <td>0.501635</td>\n",
       "      <td>0.005865</td>\n",
       "    </tr>\n",
       "    <tr>\n",
       "      <th>4</th>\n",
       "      <td>0.495204</td>\n",
       "      <td>0.001115</td>\n",
       "      <td>0.501250</td>\n",
       "      <td>0.005667</td>\n",
       "    </tr>\n",
       "    <tr>\n",
       "      <th>5</th>\n",
       "      <td>0.495204</td>\n",
       "      <td>0.001115</td>\n",
       "      <td>0.501346</td>\n",
       "      <td>0.005579</td>\n",
       "    </tr>\n",
       "    <tr>\n",
       "      <th>6</th>\n",
       "      <td>0.495204</td>\n",
       "      <td>0.001115</td>\n",
       "      <td>0.501298</td>\n",
       "      <td>0.005558</td>\n",
       "    </tr>\n",
       "    <tr>\n",
       "      <th>7</th>\n",
       "      <td>0.495204</td>\n",
       "      <td>0.001115</td>\n",
       "      <td>0.501394</td>\n",
       "      <td>0.005756</td>\n",
       "    </tr>\n",
       "    <tr>\n",
       "      <th>8</th>\n",
       "      <td>0.495204</td>\n",
       "      <td>0.001115</td>\n",
       "      <td>0.501394</td>\n",
       "      <td>0.005788</td>\n",
       "    </tr>\n",
       "    <tr>\n",
       "      <th>9</th>\n",
       "      <td>0.495204</td>\n",
       "      <td>0.001115</td>\n",
       "      <td>0.501154</td>\n",
       "      <td>0.005788</td>\n",
       "    </tr>\n",
       "  </tbody>\n",
       "</table>\n",
       "</div>"
      ],
      "text/plain": [
       "   train-error-mean  train-error-std  test-error-mean  test-error-std\n",
       "0          0.495601         0.001070         0.501923        0.005668\n",
       "1          0.495276         0.001123         0.501731        0.005788\n",
       "2          0.495204         0.001115         0.501538        0.005960\n",
       "3          0.495204         0.001115         0.501635        0.005865\n",
       "4          0.495204         0.001115         0.501250        0.005667\n",
       "5          0.495204         0.001115         0.501346        0.005579\n",
       "6          0.495204         0.001115         0.501298        0.005558\n",
       "7          0.495204         0.001115         0.501394        0.005756\n",
       "8          0.495204         0.001115         0.501394        0.005788\n",
       "9          0.495204         0.001115         0.501154        0.005788"
      ]
     },
     "execution_count": 11,
     "metadata": {},
     "output_type": "execute_result"
    }
   ],
   "source": [
    "xgb.cv(param, dtrain, num_round, nfold=5)"
   ]
  },
  {
   "cell_type": "code",
   "execution_count": 29,
   "metadata": {},
   "outputs": [
    {
     "name": "stderr",
     "output_type": "stream",
     "text": [
      "\u001b[32m[I 2020-11-24 10:41:31,095]\u001b[0m A new study created in memory with name: no-name-f9850035-ed05-4ce2-999d-c8c8bb0fc9fe\u001b[0m\n",
      "\u001b[32m[I 2020-11-24 10:41:32,848]\u001b[0m Trial 0 finished with value: 0.504427 and parameters: {'max_depth': 2, 'eta': 0.8781646614071814, 'min_child_weight': 9, 'gamma': 0.00820256258485517, 'subsample': 0.8791007137841875, 'colsample_bytree': 0.6341375253293412, 'alpha': 0.4325044655701378, 'lambda': 0.003935604014540353}. Best is trial 0 with value: 0.504427.\u001b[0m\n",
      "\u001b[32m[I 2020-11-24 10:41:34,682]\u001b[0m Trial 1 finished with value: 0.5058226666666666 and parameters: {'max_depth': 3, 'eta': 0.04612618941519812, 'min_child_weight': 2, 'gamma': 0.02885211678824975, 'subsample': 0.733994789398677, 'colsample_bytree': 0.9200978137126534, 'alpha': 0.028263227015199597, 'lambda': 0.07222630363558077}. Best is trial 1 with value: 0.5058226666666666.\u001b[0m\n",
      "\u001b[32m[I 2020-11-24 10:41:36,586]\u001b[0m Trial 2 finished with value: 0.5051783333333333 and parameters: {'max_depth': 7, 'eta': 0.0030433168299105816, 'min_child_weight': 2, 'gamma': 0.02536611031358887, 'subsample': 0.8742219468981484, 'colsample_bytree': 0.7264808322263727, 'alpha': 0.10020213536935496, 'lambda': 0.03630799738076235}. Best is trial 1 with value: 0.5058226666666666.\u001b[0m\n",
      "\u001b[32m[I 2020-11-24 10:41:38,246]\u001b[0m Trial 3 finished with value: 0.5051640000000001 and parameters: {'max_depth': 3, 'eta': 0.2733267418071025, 'min_child_weight': 2, 'gamma': 0.01425483298891201, 'subsample': 0.7888593879467166, 'colsample_bytree': 0.711321479092121, 'alpha': 0.0011145442066422234, 'lambda': 0.005338127725917067}. Best is trial 1 with value: 0.5058226666666666.\u001b[0m\n",
      "\u001b[32m[I 2020-11-24 10:41:40,207]\u001b[0m Trial 4 finished with value: 0.5044376666666667 and parameters: {'max_depth': 5, 'eta': 0.0012732546908936473, 'min_child_weight': 2, 'gamma': 0.7606266762335988, 'subsample': 0.7468542460692441, 'colsample_bytree': 0.8644441850740078, 'alpha': 0.09213048989803493, 'lambda': 0.2790507643978356}. Best is trial 1 with value: 0.5058226666666666.\u001b[0m\n",
      "\u001b[32m[I 2020-11-24 10:41:40,675]\u001b[0m Trial 5 pruned. Trial was pruned at iteration 0.\u001b[0m\n",
      "\u001b[32m[I 2020-11-24 10:41:41,213]\u001b[0m Trial 6 pruned. Trial was pruned at iteration 0.\u001b[0m\n",
      "\u001b[32m[I 2020-11-24 10:41:41,708]\u001b[0m Trial 7 pruned. Trial was pruned at iteration 0.\u001b[0m\n",
      "\u001b[32m[I 2020-11-24 10:41:42,235]\u001b[0m Trial 8 pruned. Trial was pruned at iteration 0.\u001b[0m\n",
      "\u001b[32m[I 2020-11-24 10:41:42,766]\u001b[0m Trial 9 pruned. Trial was pruned at iteration 0.\u001b[0m\n"
     ]
    },
    {
     "name": "stdout",
     "output_type": "stream",
     "text": [
      "{'max_depth': 3, 'eta': 0.04612618941519812, 'min_child_weight': 2, 'gamma': 0.02885211678824975, 'subsample': 0.733994789398677, 'colsample_bytree': 0.9200978137126534, 'alpha': 0.028263227015199597, 'lambda': 0.07222630363558077}\n"
     ]
    }
   ],
   "source": [
    "import optuna\n",
    "import xgboost\n",
    "\n",
    "\n",
    "class ObjectiveXgb:\n",
    "    def __init__(self, data, labels, params, boost_rounds):\n",
    "        self.data = xgboost.DMatrix(data, label=labels)\n",
    "        self.params = params\n",
    "        self.boost_rounds = boost_rounds\n",
    "\n",
    "    def __call__(self, trial):\n",
    "        # set fixed params\n",
    "        trial_params = {\n",
    "            \"objective\": \"binary:logistic\",\n",
    "            \"eval_metric\": \"aucpr\",\n",
    "        }\n",
    "\n",
    "        # check variable params against input\n",
    "        if \"max_depth\" in self.params:\n",
    "            trial_params[\"max_depth\"] = trial.suggest_int(\"max_depth\", 1, 9)\n",
    "\n",
    "        if \"eta\" in self.params:\n",
    "            trial_params[\"eta\"] = trial.suggest_loguniform(\"eta\", 1e-3, 1.0)\n",
    "\n",
    "        if \"min_child_weight\" in self.params:\n",
    "            trial_params[\"min_child_weight\"] = trial.suggest_int(\n",
    "                \"min_child_weight\", 1, 9\n",
    "            )\n",
    "        if \"gamma\" in self.params:\n",
    "            trial_params[\"gamma\"] = trial.suggest_loguniform(\"gamma\", 1e-3, 1.0)\n",
    "        if \"subsample\" in self.params:\n",
    "            trial_params[\"subsample\"] = trial.suggest_loguniform(\n",
    "                \"subsample\", 0.6, 1.0\n",
    "            )\n",
    "        if \"colsample_bytree\" in self.params:\n",
    "            trial_params[\"colsample_bytree\"] = trial.suggest_loguniform(\n",
    "                \"colsample_bytree\", 0.6, 1.0\n",
    "            )\n",
    "        if \"alpha\" in self.params:\n",
    "            trial_params[\"alpha\"] = trial.suggest_loguniform(\"alpha\", 1e-3, 1.0)\n",
    "        if \"lambda\" in self.params:\n",
    "            trial_params[\"lambda\"] = trial.suggest_loguniform(\n",
    "                \"lambda\", 1e-3, 1.0\n",
    "            )\n",
    "\n",
    "        pruning_callback = optuna.integration.XGBoostPruningCallback(\n",
    "            trial, \"test-aucpr\"\n",
    "        )\n",
    "\n",
    "        scores = xgboost.cv(\n",
    "            trial_params,\n",
    "            self.data,\n",
    "            num_boost_round=self.boost_rounds,\n",
    "            callbacks=[pruning_callback],\n",
    "        )\n",
    "        return scores[\"test-aucpr-mean\"].tail(1).values[0]\n",
    "\n",
    "\n",
    "params = [\n",
    "    \"max_depth\",\n",
    "    \"eta\",\n",
    "    \"min_child_weight\",\n",
    "    \"gamma\",\n",
    "    \"subsample\",\n",
    "    \"colsample_bytree\",\n",
    "    \"alpha\",\n",
    "    \"lambda\",\n",
    "]\n",
    "study = optuna.create_study(direction=\"maximize\")\n",
    "study.optimize(ObjectiveXgb(X_train, y_train, params, 10), n_trials=10)\n",
    "print(study.best_params)"
   ]
  },
  {
   "cell_type": "code",
   "execution_count": 30,
   "metadata": {},
   "outputs": [],
   "source": [
    "from sklearn.feature_extraction.text import TfidfVectorizer"
   ]
  },
  {
   "cell_type": "code",
   "execution_count": 56,
   "metadata": {},
   "outputs": [],
   "source": [
    "vec = TfidfVectorizer(max_features=10000)\n",
    "X = vec.fit_transform(df.all_text)"
   ]
  },
  {
   "cell_type": "code",
   "execution_count": 47,
   "metadata": {},
   "outputs": [
    {
     "data": {
      "text/plain": [
       "(20203, 10000)"
      ]
     },
     "execution_count": 47,
     "metadata": {},
     "output_type": "execute_result"
    }
   ],
   "source": [
    "X.shape"
   ]
  },
  {
   "cell_type": "code",
   "execution_count": 48,
   "metadata": {},
   "outputs": [
    {
     "name": "stderr",
     "output_type": "stream",
     "text": [
      "\u001b[32m[I 2020-11-24 13:37:29,206]\u001b[0m A new study created in memory with name: no-name-aeb3a3f7-b5ae-4ee2-b491-b832298b5738\u001b[0m\n",
      "\u001b[32m[I 2020-11-24 13:37:36,368]\u001b[0m Trial 0 finished with value: 0.984126 and parameters: {'max_depth': 7, 'eta': 0.0010570306934632135, 'min_child_weight': 5, 'gamma': 0.11069397277450063, 'subsample': 0.7224543850464474, 'colsample_bytree': 0.6405886830791608, 'alpha': 0.1805579948346299, 'lambda': 0.3334680708428777}. Best is trial 0 with value: 0.984126.\u001b[0m\n",
      "\u001b[32m[I 2020-11-24 13:37:44,984]\u001b[0m Trial 1 finished with value: 0.9823213333333333 and parameters: {'max_depth': 9, 'eta': 0.0014049400970806813, 'min_child_weight': 5, 'gamma': 0.008907585794928733, 'subsample': 0.853254024599558, 'colsample_bytree': 0.8137064988929391, 'alpha': 0.3900256870686083, 'lambda': 0.856473939423918}. Best is trial 0 with value: 0.984126.\u001b[0m\n",
      "\u001b[32m[I 2020-11-24 13:37:52,858]\u001b[0m Trial 2 finished with value: 0.9869163333333333 and parameters: {'max_depth': 8, 'eta': 0.023417295129674713, 'min_child_weight': 6, 'gamma': 0.00616645159648425, 'subsample': 0.8712535166224095, 'colsample_bytree': 0.6120602654415218, 'alpha': 0.00102362607551017, 'lambda': 0.005267084500654618}. Best is trial 2 with value: 0.9869163333333333.\u001b[0m\n",
      "\u001b[32m[I 2020-11-24 13:37:57,711]\u001b[0m Trial 3 finished with value: 0.9547003333333334 and parameters: {'max_depth': 2, 'eta': 0.15866830167734466, 'min_child_weight': 1, 'gamma': 0.0016827250857486026, 'subsample': 0.7801045313079213, 'colsample_bytree': 0.7521863911750142, 'alpha': 0.003661080457928511, 'lambda': 0.10939687499777215}. Best is trial 2 with value: 0.9869163333333333.\u001b[0m\n",
      "\u001b[32m[I 2020-11-24 13:38:05,669]\u001b[0m Trial 4 finished with value: 0.9232746666666666 and parameters: {'max_depth': 3, 'eta': 0.007697709699793634, 'min_child_weight': 5, 'gamma': 0.002722498429764381, 'subsample': 0.6987807830770447, 'colsample_bytree': 0.9788931498672294, 'alpha': 0.006018128901901169, 'lambda': 0.006695034814099297}. Best is trial 2 with value: 0.9869163333333333.\u001b[0m\n",
      "\u001b[32m[I 2020-11-24 13:38:07,367]\u001b[0m Trial 5 pruned. Trial was pruned at iteration 1.\u001b[0m\n",
      "\u001b[32m[I 2020-11-24 13:38:09,512]\u001b[0m Trial 6 pruned. Trial was pruned at iteration 1.\u001b[0m\n",
      "\u001b[32m[I 2020-11-24 13:38:10,946]\u001b[0m Trial 7 pruned. Trial was pruned at iteration 1.\u001b[0m\n",
      "\u001b[32m[I 2020-11-24 13:38:12,975]\u001b[0m Trial 8 pruned. Trial was pruned at iteration 1.\u001b[0m\n",
      "\u001b[32m[I 2020-11-24 13:38:13,826]\u001b[0m Trial 9 pruned. Trial was pruned at iteration 0.\u001b[0m\n"
     ]
    },
    {
     "name": "stdout",
     "output_type": "stream",
     "text": [
      "{'max_depth': 8, 'eta': 0.023417295129674713, 'min_child_weight': 6, 'gamma': 0.00616645159648425, 'subsample': 0.8712535166224095, 'colsample_bytree': 0.6120602654415218, 'alpha': 0.00102362607551017, 'lambda': 0.005267084500654618}\n"
     ]
    }
   ],
   "source": [
    "study = optuna.create_study(direction=\"maximize\")\n",
    "study.optimize(ObjectiveXgb(X, df.label, params, 10), n_trials=10)\n",
    "print(study.best_params)"
   ]
  },
  {
   "cell_type": "code",
   "execution_count": 65,
   "metadata": {},
   "outputs": [
    {
     "name": "stdout",
     "output_type": "stream",
     "text": [
      "(15152, 10000)\n",
      "(15152,)\n"
     ]
    }
   ],
   "source": [
    "from sklearn.model_selection import train_test_split\n",
    "\n",
    "parameters = {\n",
    "    \"max_depth\": 8,\n",
    "    \"eta\": 0.023417295129674713,\n",
    "    \"min_child_weight\": 6,\n",
    "    \"gamma\": 0.00616645159648425,\n",
    "    \"subsample\": 0.8712535166224095,\n",
    "    \"colsample_bytree\": 0.6120602654415218,\n",
    "    \"alpha\": 0.00102362607551017,\n",
    "    \"lambda\": 0.005267084500654618,\n",
    "}\n",
    "\n",
    "X_train, X_test, y_train, y_test = train_test_split(\n",
    "    X, df.label, test_size=0.25, random_state=42\n",
    ")\n",
    "\n",
    "\n",
    "print(X_train.shape)\n",
    "print(y_train.shape)\n",
    "\n",
    "train_data = xgb.DMatrix(X_train, y_train)\n",
    "test_data = xgb.DMatrix(X_test, y_test)\n",
    "\n",
    "\n",
    "bst = xgb.train(parameters, test_data, 10)"
   ]
  },
  {
   "cell_type": "code",
   "execution_count": 67,
   "metadata": {},
   "outputs": [],
   "source": [
    "y_pred = bst.predict(test_data)>0.5"
   ]
  },
  {
   "cell_type": "code",
   "execution_count": 69,
   "metadata": {},
   "outputs": [
    {
     "data": {
      "text/plain": [
       "array([[2553,   75],\n",
       "       [  27, 2396]])"
      ]
     },
     "execution_count": 69,
     "metadata": {},
     "output_type": "execute_result"
    }
   ],
   "source": [
    "confusion_matrix(y_test, y_pred)"
   ]
  },
  {
   "cell_type": "code",
   "execution_count": 74,
   "metadata": {},
   "outputs": [
    {
     "data": {
      "text/plain": [
       "array([[<AxesSubplot:title={'center':'0'}>]], dtype=object)"
      ]
     },
     "execution_count": 74,
     "metadata": {},
     "output_type": "execute_result"
    },
    {
     "data": {
      "image/png": "[encoded data removed]",
      "text/plain": [
       "<Figure size 432x288 with 1 Axes>"
      ]
     },
     "metadata": {
      "needs_background": "light"
     },
     "output_type": "display_data"
    }
   ],
   "source": [
    "pd.DataFrame(bst.predict(test_data)).hist(bins=100)"
   ]
  },
  {
   "cell_type": "markdown",
   "metadata": {},
   "source": [
    "## Tensorflow"
   ]
  },
  {
   "cell_type": "code",
   "execution_count": 42,
   "metadata": {},
   "outputs": [],
   "source": [
    "embedding_layer = layers.Embedding(\n",
    "    20800,\n",
    "    300,\n",
    "    embeddings_initializer = keras.initializers.Constant(X_train),\n",
    "    trainable=False,\n",
    ")"
   ]
  },
  {
   "cell_type": "code",
   "execution_count": null,
   "metadata": {},
   "outputs": [],
   "source": [
    "inputs = tf.keras.Input(shape=(None,), dtype=\"float64\")\n",
    "\n",
    "embedded_sequences = embedding_layer\n",
    "x = layers.Embedding()"
   ]
  }
 ],
 "metadata": {
  "kernelspec": {
   "display_name": "Python 3",
   "language": "python",
   "name": "python3"
  },
  "language_info": {
   "codemirror_mode": {
    "name": "ipython",
    "version": 3
   },
   "file_extension": ".py",
   "mimetype": "text/x-python",
   "name": "python",
   "nbconvert_exporter": "python",
   "pygments_lexer": "ipython3",
   "version": "3.6.9"
  }
 },
 "nbformat": 4,
 "nbformat_minor": 4
}
