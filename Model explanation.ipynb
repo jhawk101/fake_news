{
 "cells": [
  {
   "cell_type": "markdown",
   "metadata": {},
   "source": [
    "# Model explanation\n",
    "\n",
    "Notebook to show characteristics of the fake news data and show how to build an accurate predictive model using tfidf and xgboost."
   ]
  },
  {
   "cell_type": "code",
   "execution_count": 1,
   "metadata": {},
   "outputs": [],
   "source": [
    "import pandas as pd\n",
    "import numpy as np\n",
    "import xgboost as xgb\n",
    "import matplotlib.pyplot as plt\n",
    "from sklearn.metrics import confusion_matrix, ConfusionMatrixDisplay, f1_score\n",
    "from sklearn.feature_extraction.text import TfidfVectorizer\n",
    "from sklearn.model_selection import train_test_split\n",
    "from sklearn.linear_model import LogisticRegression\n",
    "import pickle\n",
    "import json"
   ]
  },
  {
   "cell_type": "code",
   "execution_count": 2,
   "metadata": {},
   "outputs": [
    {
     "name": "stdout",
     "output_type": "stream",
     "text": [
      "non-null datapoints: 20203\n"
     ]
    }
   ],
   "source": [
    "# read in data\n",
    "df = pd.read_csv(\"fake_news/data/train.csv\")\n",
    "\n",
    "# concat title and body of article\n",
    "df[\"all_text\"] = (df.title + \" \" + df.text).values\n",
    "\n",
    "# drop nulls\n",
    "df = df[pd.notnull(df.all_text)]\n",
    "\n",
    "print(f\"non-null datapoints: {df.shape[0]}\")"
   ]
  },
  {
   "cell_type": "code",
   "execution_count": 3,
   "metadata": {},
   "outputs": [],
   "source": [
    "# split into train and test, 75:25 ratio\n",
    "X_train, X_test, y_train, y_test = train_test_split(\n",
    "    df[\"all_text\"], df[\"label\"], test_size=0.25, random_state=99\n",
    ")"
   ]
  },
  {
   "cell_type": "markdown",
   "metadata": {},
   "source": [
    "## Problem explanation\n",
    "\n",
    "The dataset is split approximately 50:50 between fake and real news, in the training data 7821 articles are real news, 7331 are fake. This means that the dataset is well-balanced between classes.\n",
    "\n",
    "An example of a naive classifier would therefore be to flip a coin. The matrix below shows how accurate we could expect to be on the test set if that was how we predicted fake news. The values are normalized to 100% in each row, ie. showing what proportion of each true lable has been accurately predicted. With the coin toss, we can see that about half are predicted accurately, as we'd expect.\n",
    "\n",
    "The f1 score is similar to the proportion of fake news articles in the dataset."
   ]
  },
  {
   "cell_type": "code",
   "execution_count": 4,
   "metadata": {},
   "outputs": [
    {
     "data": {
      "text/plain": [
       "0    7821\n",
       "1    7331\n",
       "Name: label, dtype: int64"
      ]
     },
     "execution_count": 4,
     "metadata": {},
     "output_type": "execute_result"
    }
   ],
   "source": [
    "y_train.value_counts()"
   ]
  },
  {
   "cell_type": "code",
   "execution_count": 5,
   "metadata": {},
   "outputs": [
    {
     "data": {
      "text/plain": [
       "<sklearn.metrics._plot.confusion_matrix.ConfusionMatrixDisplay at 0x7fd882bb9780>"
      ]
     },
     "execution_count": 5,
     "metadata": {},
     "output_type": "execute_result"
    },
    {
     "data": {
      "image/png": "[encoded data removed]",
      "text/plain": [
       "<Figure size 432x288 with 2 Axes>"
      ]
     },
     "metadata": {
      "needs_background": "light"
     },
     "output_type": "display_data"
    }
   ],
   "source": [
    "naive_preds = np.random.randint(2, size=y_test.shape[0])\n",
    "\n",
    "ConfusionMatrixDisplay(confusion_matrix(y_test, naive_preds, normalize=\"true\")).plot()"
   ]
  },
  {
   "cell_type": "code",
   "execution_count": 6,
   "metadata": {},
   "outputs": [
    {
     "name": "stdout",
     "output_type": "stream",
     "text": [
      "F1 score for naive predictor: 0.4942254082039028\n"
     ]
    }
   ],
   "source": [
    "print(f\"F1 score for naive predictor: {f1_score(y_test, naive_preds)}\")"
   ]
  },
  {
   "cell_type": "markdown",
   "metadata": {},
   "source": [
    "## Tfidf\n",
    "\n",
    "Stands for \"Term-Frequency times Inverse Document-Frequency\".\n",
    "\n",
    "[Sklearn docs](https://scikit-learn.org/stable/modules/feature_extraction.html#tfidf-term-weighting).\n",
    "\n",
    "This works by:\n",
    "\n",
    "1. Find the top 10,000 most regular words in all of the text in the training set\n",
    "2. Make a matrix where each column represents one of the 10k words and each row is an article, the values are the count of the appearances of the word in the article\n",
    "3. Transform these counts to capture the frequency of the word in the article vs frequency in all of the articles together.\n",
    "\n",
    "So we're taking a vector of text-strings and transforming it into a 10,000 column matrix of float representations."
   ]
  },
  {
   "cell_type": "code",
   "execution_count": 7,
   "metadata": {},
   "outputs": [],
   "source": [
    "vec = TfidfVectorizer(max_features=10000)\n",
    "\n",
    "# fit_transform() fits the vectorizer and outputs a transformed matrix\n",
    "X_train_float = vec.fit_transform(X_train)\n",
    "\n",
    "# transform() uses the previously trained vectorizer\n",
    "X_test_float = vec.transform(X_test)"
   ]
  },
  {
   "cell_type": "code",
   "execution_count": 8,
   "metadata": {},
   "outputs": [
    {
     "name": "stdout",
     "output_type": "stream",
     "text": [
      "untransformed text-string examples: 11953    BREAKING: The FBI Has Ordered ALL Agents To Re...\n",
      "7524     A combat veteran with PTSD wasn’t allowed to f...\n",
      "9878     ’White Devils’: Muhammad Ali’s Racist Mosque S...\n",
      "11151    Sweden Has Introduced a 6 Hour Working Day pos...\n",
      "15076    WATCH: MILO and Martin Shkreli March on UC Dav...\n",
      "Name: all_text, dtype: object\n",
      "\n",
      "transformed float-vector example:   (0, 1868)\t0.024041822310049157\n",
      "  (0, 5167)\t0.023624618615050007\n",
      "  (0, 8294)\t0.012303642666015614\n",
      "  (0, 3954)\t0.017218591790192708\n",
      "  (0, 6689)\t0.0277891258959877\n",
      "  (0, 6379)\t0.028003622508925977\n",
      "  (0, 3416)\t0.02346660492699375\n",
      "  (0, 6305)\t0.014209412106643685\n",
      "  (0, 5259)\t0.037269253750335816\n",
      "  (0, 1638)\t0.0400101766886417\n",
      "  (0, 4178)\t0.031088902994637655\n",
      "  (0, 8506)\t0.026432894493141745\n",
      "  (0, 8906)\t0.023620303586376217\n",
      "  (0, 7963)\t0.016455697037444636\n",
      "  (0, 5563)\t0.015383199934035465\n",
      "  (0, 5088)\t0.04322660742366176\n",
      "  (0, 1926)\t0.02872103831122076\n",
      "  (0, 5361)\t0.030522856829393905\n",
      "  (0, 537)\t0.01189517346766242\n",
      "  (0, 3598)\t0.0432868958645433\n",
      "  (0, 9716)\t0.03181867367669219\n",
      "  (0, 8014)\t0.04175984068716804\n",
      "  (0, 6933)\t0.029796388674587535\n",
      "  (0, 5343)\t0.01724969513805609\n",
      "  (0, 7596)\t0.048425348326773886\n",
      "  :\t:\n",
      "  (0, 4274)\t0.1855493272198743\n",
      "  (0, 9699)\t0.036202982408872944\n",
      "  (0, 9847)\t0.0296301639243736\n",
      "  (0, 1040)\t0.03315967761383977\n",
      "  (0, 9000)\t0.04682042266387867\n",
      "  (0, 6927)\t0.033369371428195474\n",
      "  (0, 3045)\t0.04252515148459032\n",
      "  (0, 5995)\t0.027042508117715303\n",
      "  (0, 6007)\t0.015190236386185432\n",
      "  (0, 1431)\t0.031908744330398704\n",
      "  (0, 1766)\t0.28786088309877894\n",
      "  (0, 6170)\t0.047124581898622814\n",
      "  (0, 9645)\t0.09475655277993526\n",
      "  (0, 739)\t0.033763062163625276\n",
      "  (0, 5537)\t0.02786502443056935\n",
      "  (0, 3691)\t0.07532879067327466\n",
      "  (0, 7504)\t0.042759563068672214\n",
      "  (0, 9068)\t0.1407120069127467\n",
      "  (0, 440)\t0.061578390310295675\n",
      "  (0, 511)\t0.034422338204412\n",
      "  (0, 6269)\t0.06387010766797369\n",
      "  (0, 4163)\t0.07796499902487698\n",
      "  (0, 3502)\t0.4997971150141447\n",
      "  (0, 8967)\t0.3085692445318139\n",
      "  (0, 1288)\t0.02886796692128818\n"
     ]
    }
   ],
   "source": [
    "print(f\"untransformed text-string examples: {X_train.head()}\\n\")\n",
    "print(f\"transformed float-vector example: {X_train_float[0]}\")"
   ]
  },
  {
   "cell_type": "markdown",
   "metadata": {},
   "source": [
    "## Logistic Regression\n",
    "\n",
    "Logistic regression is the most lightweight predictor we might use on this problem, but it performs very well using the transformed data, giving 96% accuracy."
   ]
  },
  {
   "cell_type": "code",
   "execution_count": 9,
   "metadata": {},
   "outputs": [
    {
     "data": {
      "text/plain": [
       "<sklearn.metrics._plot.confusion_matrix.ConfusionMatrixDisplay at 0x7fd880849550>"
      ]
     },
     "execution_count": 9,
     "metadata": {},
     "output_type": "execute_result"
    },
    {
     "data": {
      "image/png": "[encoded data removed]",
      "text/plain": [
       "<Figure size 432x288 with 2 Axes>"
      ]
     },
     "metadata": {
      "needs_background": "light"
     },
     "output_type": "display_data"
    }
   ],
   "source": [
    "clf = LogisticRegression()\n",
    "clf.fit(X_train_float, y_train)\n",
    "\n",
    "lr_preds = clf.predict(X_test_float)\n",
    "\n",
    "matrix = confusion_matrix(y_test, lr_preds, normalize=\"true\")\n",
    "\n",
    "ConfusionMatrixDisplay(matrix).plot()"
   ]
  },
  {
   "cell_type": "code",
   "execution_count": 10,
   "metadata": {},
   "outputs": [
    {
     "name": "stdout",
     "output_type": "stream",
     "text": [
      "F1 score for the logistic regression is: 0.9591182364729459\n"
     ]
    }
   ],
   "source": [
    "print(f\"F1 score for the logistic regression is: {f1_score(y_test, lr_preds)}\")"
   ]
  },
  {
   "cell_type": "markdown",
   "metadata": {},
   "source": [
    "## Xgboost\n",
    "\n",
    "Boosted trees are a bit more complex and generally get better results. Using xgboost we can up the accuracy to 97%. The `500` in the model training rows means 500 boost rounds, where a new model is trained to predict the errors of the previous iteration. This makes for quite a complex model.\n",
    "\n",
    "Parameters are taken from `data explore` notebook."
   ]
  },
  {
   "cell_type": "code",
   "execution_count": 11,
   "metadata": {},
   "outputs": [],
   "source": [
    "parameters = {\n",
    "    \"max_depth\": 8,\n",
    "    \"eta\": 0.023417295129674713,\n",
    "    \"min_child_weight\": 6,\n",
    "    \"gamma\": 0.00616645159648425,\n",
    "    \"subsample\": 0.8712535166224095,\n",
    "    \"colsample_bytree\": 0.6120602654415218,\n",
    "    \"alpha\": 0.00102362607551017,\n",
    "    \"lambda\": 0.005267084500654618,\n",
    "}\n",
    "\n",
    "train_data = xgb.DMatrix(X_train_float, y_train)\n",
    "test_data = xgb.DMatrix(X_test_float, y_test)\n",
    "\n",
    "# training the model on trainset\n",
    "bst = xgb.train(parameters, train_data, 500)\n",
    "\n",
    "# predicting on unseen data\n",
    "xgb_pred = bst.predict(test_data)>0.5"
   ]
  },
  {
   "cell_type": "code",
   "execution_count": 12,
   "metadata": {},
   "outputs": [
    {
     "data": {
      "text/plain": [
       "<sklearn.metrics._plot.confusion_matrix.ConfusionMatrixDisplay at 0x7fd880696240>"
      ]
     },
     "execution_count": 12,
     "metadata": {},
     "output_type": "execute_result"
    },
    {
     "data": {
      "image/png": "[encoded data removed]",
      "text/plain": [
       "<Figure size 432x288 with 2 Axes>"
      ]
     },
     "metadata": {
      "needs_background": "light"
     },
     "output_type": "display_data"
    }
   ],
   "source": [
    "matrix = confusion_matrix(y_test, xgb_pred, normalize=\"true\")\n",
    "\n",
    "ConfusionMatrixDisplay(matrix).plot()"
   ]
  },
  {
   "cell_type": "code",
   "execution_count": 13,
   "metadata": {},
   "outputs": [
    {
     "name": "stdout",
     "output_type": "stream",
     "text": [
      "F1 score for the xgboost is: 0.9672033392963626\n"
     ]
    }
   ],
   "source": [
    "print(f\"F1 score for the xgboost is: {f1_score(y_test, xgb_pred)}\")"
   ]
  },
  {
   "cell_type": "markdown",
   "metadata": {},
   "source": [
    "## Conclusion\n",
    "\n",
    "I'd suggest sticking to the logistic regression model, it's much more lightweight and only slightly less accurate. \n",
    "\n",
    "## Scores\n",
    "\n",
    "The model can output a percentage probability of fake news, so we could use that to traffic light each article."
   ]
  },
  {
   "cell_type": "code",
   "execution_count": 14,
   "metadata": {},
   "outputs": [
    {
     "data": {
      "text/plain": [
       "array([[<AxesSubplot:title={'center':'0'}>]], dtype=object)"
      ]
     },
     "execution_count": 14,
     "metadata": {},
     "output_type": "execute_result"
    },
    {
     "data": {
      "image/png": "[encoded data removed]",
      "text/plain": [
       "<Figure size 432x288 with 1 Axes>"
      ]
     },
     "metadata": {
      "needs_background": "light"
     },
     "output_type": "display_data"
    }
   ],
   "source": [
    "scores = clf.predict_proba(X_test_float)[:, 1]\n",
    "\n",
    "pd.DataFrame(scores).hist(bins=100)"
   ]
  },
  {
   "cell_type": "markdown",
   "metadata": {},
   "source": [
    "The chart shows the distribution of scores from 0 - 100%, they are distributed across the whole range with clusters at 0 and 1, a common pattern for logistic regression. "
   ]
  },
  {
   "cell_type": "code",
   "execution_count": 15,
   "metadata": {},
   "outputs": [
    {
     "name": "stdout",
     "output_type": "stream",
     "text": [
      "[0.12724488 0.83481253]\n"
     ]
    }
   ],
   "source": [
    "train_scores = clf.predict_proba(X_train_float)[: , 1]\n",
    "\n",
    "thirds = np.quantile(train_scores, [0.33, 0.66])\n",
    "print(thirds)\n",
    "thirds = [0] + list(thirds) + [1]"
   ]
  },
  {
   "cell_type": "code",
   "execution_count": 16,
   "metadata": {},
   "outputs": [],
   "source": [
    "traffic_lights = pd.DataFrame(\n",
    "    data={\n",
    "        \"actuals\": y_test,\n",
    "        \"scores\": scores\n",
    "    }\n",
    ")"
   ]
  },
  {
   "cell_type": "code",
   "execution_count": 17,
   "metadata": {},
   "outputs": [],
   "source": [
    "traffic_lights[\"RAG\"] = pd.cut(traffic_lights[\"scores\"], thirds, labels=[\"Green\", \"Amber\", \"Red\"])"
   ]
  },
  {
   "cell_type": "code",
   "execution_count": 18,
   "metadata": {},
   "outputs": [
    {
     "data": {
      "text/html": [
       "<div>\n",
       "<style scoped>\n",
       "    .dataframe tbody tr th:only-of-type {\n",
       "        vertical-align: middle;\n",
       "    }\n",
       "\n",
       "    .dataframe tbody tr th {\n",
       "        vertical-align: top;\n",
       "    }\n",
       "\n",
       "    .dataframe thead tr th {\n",
       "        text-align: left;\n",
       "    }\n",
       "\n",
       "    .dataframe thead tr:last-of-type th {\n",
       "        text-align: right;\n",
       "    }\n",
       "</style>\n",
       "<table border=\"1\" class=\"dataframe\">\n",
       "  <thead>\n",
       "    <tr>\n",
       "      <th></th>\n",
       "      <th>mean</th>\n",
       "      <th>count</th>\n",
       "    </tr>\n",
       "    <tr>\n",
       "      <th></th>\n",
       "      <th>actuals</th>\n",
       "      <th>actuals</th>\n",
       "    </tr>\n",
       "    <tr>\n",
       "      <th>RAG</th>\n",
       "      <th></th>\n",
       "      <th></th>\n",
       "    </tr>\n",
       "  </thead>\n",
       "  <tbody>\n",
       "    <tr>\n",
       "      <th>Green</th>\n",
       "      <td>0.001265</td>\n",
       "      <td>1581</td>\n",
       "    </tr>\n",
       "    <tr>\n",
       "      <th>Amber</th>\n",
       "      <td>0.444695</td>\n",
       "      <td>1772</td>\n",
       "    </tr>\n",
       "    <tr>\n",
       "      <th>Red</th>\n",
       "      <td>0.998233</td>\n",
       "      <td>1698</td>\n",
       "    </tr>\n",
       "  </tbody>\n",
       "</table>\n",
       "</div>"
      ],
      "text/plain": [
       "           mean   count\n",
       "        actuals actuals\n",
       "RAG                    \n",
       "Green  0.001265    1581\n",
       "Amber  0.444695    1772\n",
       "Red    0.998233    1698"
      ]
     },
     "execution_count": 18,
     "metadata": {},
     "output_type": "execute_result"
    }
   ],
   "source": [
    "pd.pivot_table(traffic_lights, index=\"RAG\", values=\"actuals\", aggfunc=[\"mean\", \"count\"])"
   ]
  },
  {
   "cell_type": "markdown",
   "metadata": {},
   "source": [
    "The traffic lighting here is chosen to cut the data into approximate thirds. It has very accurate red and green categories (approx 0.1% errors in each case) but is possibly quite conservative. A better model would have as many articles as possible in red & green and fewer in amber. We might therefore set red, amber green to be a third of the range 0-1."
   ]
  },
  {
   "cell_type": "code",
   "execution_count": 19,
   "metadata": {},
   "outputs": [
    {
     "data": {
      "text/html": [
       "<div>\n",
       "<style scoped>\n",
       "    .dataframe tbody tr th:only-of-type {\n",
       "        vertical-align: middle;\n",
       "    }\n",
       "\n",
       "    .dataframe tbody tr th {\n",
       "        vertical-align: top;\n",
       "    }\n",
       "\n",
       "    .dataframe thead tr th {\n",
       "        text-align: left;\n",
       "    }\n",
       "\n",
       "    .dataframe thead tr:last-of-type th {\n",
       "        text-align: right;\n",
       "    }\n",
       "</style>\n",
       "<table border=\"1\" class=\"dataframe\">\n",
       "  <thead>\n",
       "    <tr>\n",
       "      <th></th>\n",
       "      <th>mean</th>\n",
       "      <th>count</th>\n",
       "    </tr>\n",
       "    <tr>\n",
       "      <th></th>\n",
       "      <th>actuals</th>\n",
       "      <th>actuals</th>\n",
       "    </tr>\n",
       "    <tr>\n",
       "      <th>RAG2</th>\n",
       "      <th></th>\n",
       "      <th></th>\n",
       "    </tr>\n",
       "  </thead>\n",
       "  <tbody>\n",
       "    <tr>\n",
       "      <th>Green</th>\n",
       "      <td>0.009194</td>\n",
       "      <td>2284</td>\n",
       "    </tr>\n",
       "    <tr>\n",
       "      <th>Amber</th>\n",
       "      <td>0.475728</td>\n",
       "      <td>515</td>\n",
       "    </tr>\n",
       "    <tr>\n",
       "      <th>Red</th>\n",
       "      <td>0.985346</td>\n",
       "      <td>2252</td>\n",
       "    </tr>\n",
       "  </tbody>\n",
       "</table>\n",
       "</div>"
      ],
      "text/plain": [
       "           mean   count\n",
       "        actuals actuals\n",
       "RAG2                   \n",
       "Green  0.009194    2284\n",
       "Amber  0.475728     515\n",
       "Red    0.985346    2252"
      ]
     },
     "execution_count": 19,
     "metadata": {},
     "output_type": "execute_result"
    }
   ],
   "source": [
    "traffic_lights[\"RAG2\"] = pd.cut(traffic_lights[\"scores\"], [0,0.33,0.66,1], labels=[\"Green\", \"Amber\", \"Red\"])\n",
    "pd.pivot_table(traffic_lights, index=\"RAG2\", values=\"actuals\", aggfunc=[\"mean\", \"count\"])"
   ]
  },
  {
   "cell_type": "markdown",
   "metadata": {},
   "source": [
    "This reduces the number of ambers significantly, without the number of errors growing hugely: \n",
    "\n",
    "* Green errors are 0.9%\n",
    "* Red errors are 1 - 0.985 = 1.5%\n",
    "\n",
    "We could be more aggressive still by only saying the middle 10% are amber, this is all a matter of preference."
   ]
  },
  {
   "cell_type": "code",
   "execution_count": 20,
   "metadata": {},
   "outputs": [
    {
     "data": {
      "text/html": [
       "<div>\n",
       "<style scoped>\n",
       "    .dataframe tbody tr th:only-of-type {\n",
       "        vertical-align: middle;\n",
       "    }\n",
       "\n",
       "    .dataframe tbody tr th {\n",
       "        vertical-align: top;\n",
       "    }\n",
       "\n",
       "    .dataframe thead tr th {\n",
       "        text-align: left;\n",
       "    }\n",
       "\n",
       "    .dataframe thead tr:last-of-type th {\n",
       "        text-align: right;\n",
       "    }\n",
       "</style>\n",
       "<table border=\"1\" class=\"dataframe\">\n",
       "  <thead>\n",
       "    <tr>\n",
       "      <th></th>\n",
       "      <th>mean</th>\n",
       "      <th>count</th>\n",
       "    </tr>\n",
       "    <tr>\n",
       "      <th></th>\n",
       "      <th>actuals</th>\n",
       "      <th>actuals</th>\n",
       "    </tr>\n",
       "    <tr>\n",
       "      <th>RAG3</th>\n",
       "      <th></th>\n",
       "      <th></th>\n",
       "    </tr>\n",
       "  </thead>\n",
       "  <tbody>\n",
       "    <tr>\n",
       "      <th>Green</th>\n",
       "      <td>0.024155</td>\n",
       "      <td>2484</td>\n",
       "    </tr>\n",
       "    <tr>\n",
       "      <th>Amber</th>\n",
       "      <td>0.525180</td>\n",
       "      <td>139</td>\n",
       "    </tr>\n",
       "    <tr>\n",
       "      <th>Red</th>\n",
       "      <td>0.968699</td>\n",
       "      <td>2428</td>\n",
       "    </tr>\n",
       "  </tbody>\n",
       "</table>\n",
       "</div>"
      ],
      "text/plain": [
       "           mean   count\n",
       "        actuals actuals\n",
       "RAG3                   \n",
       "Green  0.024155    2484\n",
       "Amber  0.525180     139\n",
       "Red    0.968699    2428"
      ]
     },
     "execution_count": 20,
     "metadata": {},
     "output_type": "execute_result"
    }
   ],
   "source": [
    "traffic_lights[\"RAG3\"] = pd.cut(traffic_lights[\"scores\"], [0,0.45,0.55,1], labels=[\"Green\", \"Amber\", \"Red\"])\n",
    "pd.pivot_table(traffic_lights, index=\"RAG3\", values=\"actuals\", aggfunc=[\"mean\", \"count\"])"
   ]
  },
  {
   "cell_type": "markdown",
   "metadata": {},
   "source": [
    "## Saving models\n",
    "\n",
    "We need to save both the tfidf vectorizer and the trained logistic regression for future use."
   ]
  },
  {
   "cell_type": "code",
   "execution_count": 21,
   "metadata": {},
   "outputs": [],
   "source": [
    "logreg = {\n",
    "    \"coefs\": list(clf.coef_[0]),\n",
    "    \"intercept\": list(clf.intercept_)\n",
    "}\n",
    "\n",
    "# with open(\"fake_news/models/logreg.json\", \"w\") as f:\n",
    "#     json.dump(logreg, f)"
   ]
  },
  {
   "cell_type": "code",
   "execution_count": 22,
   "metadata": {},
   "outputs": [],
   "source": [
    "# with open(\"fake_news/models/logreg.pk\", \"wb\") as f:\n",
    "#     pickle.dump(clf, f)"
   ]
  },
  {
   "cell_type": "code",
   "execution_count": 23,
   "metadata": {},
   "outputs": [],
   "source": [
    "# with open(\"fake_news/models/tfidf.pk\", \"wb\") as f:\n",
    "#     pickle.dump(vec, f)"
   ]
  }
 ],
 "metadata": {
  "kernelspec": {
   "display_name": "Python 3",
   "language": "python",
   "name": "python3"
  },
  "language_info": {
   "codemirror_mode": {
    "name": "ipython",
    "version": 3
   },
   "file_extension": ".py",
   "mimetype": "text/x-python",
   "name": "python",
   "nbconvert_exporter": "python",
   "pygments_lexer": "ipython3",
   "version": "3.6.9"
  }
 },
 "nbformat": 4,
 "nbformat_minor": 4
}
